{
 "cells": [
  {
   "cell_type": "code",
   "execution_count": null,
   "id": "e9569f05",
   "metadata": {},
   "outputs": [],
   "source": [
    "import setup\n",
    "\n",
    "setup.init()"
   ]
  },
  {
   "cell_type": "code",
   "execution_count": null,
   "id": "76fab422",
   "metadata": {},
   "outputs": [],
   "source": [
    "from django.contrib.auth import get_user_model"
   ]
  },
  {
   "cell_type": "code",
   "execution_count": null,
   "id": "c0b76bf6",
   "metadata": {},
   "outputs": [],
   "source": [
    "User = get_user_model()"
   ]
  },
  {
   "cell_type": "code",
   "execution_count": null,
   "id": "c08ff65f",
   "metadata": {},
   "outputs": [],
   "source": [
    "user = User.objects.get(username=\"saksham\")"
   ]
  },
  {
   "cell_type": "code",
   "execution_count": null,
   "id": "4fb2ccdf",
   "metadata": {},
   "outputs": [],
   "source": [
    "user_linkedin = user.socialaccount_set.filter(provider=\"linkedin\")"
   ]
  },
  {
   "cell_type": "code",
   "execution_count": null,
   "id": "48eb81fb",
   "metadata": {},
   "outputs": [],
   "source": [
    "tokens = user_linkedin[0].socialtoken_set.all()"
   ]
  },
  {
   "cell_type": "code",
   "execution_count": null,
   "id": "3f9d7d8c",
   "metadata": {},
   "outputs": [],
   "source": [
    "social_token = tokens[0]\n",
    "# social_token.token"
   ]
  },
  {
   "cell_type": "code",
   "execution_count": null,
   "id": "1df8d9f3",
   "metadata": {},
   "outputs": [],
   "source": []
  }
 ],
 "metadata": {
  "kernelspec": {
   "display_name": ".venv",
   "language": "python",
   "name": "python3"
  },
  "language_info": {
   "codemirror_mode": {
    "name": "ipython",
    "version": 3
   },
   "file_extension": ".py",
   "mimetype": "text/x-python",
   "name": "python",
   "nbconvert_exporter": "python",
   "pygments_lexer": "ipython3",
   "version": "3.12.10"
  }
 },
 "nbformat": 4,
 "nbformat_minor": 5
}
