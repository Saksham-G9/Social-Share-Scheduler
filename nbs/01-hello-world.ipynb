{
 "cells": [
  {
   "cell_type": "code",
   "execution_count": null,
   "id": "533c5922",
   "metadata": {},
   "outputs": [],
   "source": [
    "print(\"Hello, World!\")"
   ]
  },
  {
   "cell_type": "code",
   "execution_count": null,
   "id": "e9569f05",
   "metadata": {},
   "outputs": [],
   "source": [
    "import setup"
   ]
  },
  {
   "cell_type": "code",
   "execution_count": null,
   "id": "863b6c57",
   "metadata": {},
   "outputs": [],
   "source": [
    "setup.init()"
   ]
  },
  {
   "cell_type": "code",
   "execution_count": null,
   "id": "76fab422",
   "metadata": {},
   "outputs": [],
   "source": [
    "from django.contrib.auth import get_user_model"
   ]
  },
  {
   "cell_type": "code",
   "execution_count": null,
   "id": "c0b76bf6",
   "metadata": {},
   "outputs": [],
   "source": [
    "User = get_user_model()"
   ]
  },
  {
   "cell_type": "code",
   "execution_count": null,
   "id": "c08ff65f",
   "metadata": {},
   "outputs": [],
   "source": [
    "saksham_linked_user = User.objects.get(username=\"saksham\")"
   ]
  },
  {
   "cell_type": "code",
   "execution_count": null,
   "id": "4fb2ccdf",
   "metadata": {},
   "outputs": [],
   "source": [
    "saksham_linked_user.email"
   ]
  },
  {
   "cell_type": "code",
   "execution_count": null,
   "id": "48eb81fb",
   "metadata": {},
   "outputs": [],
   "source": []
  }
 ],
 "metadata": {
  "kernelspec": {
   "display_name": ".venv",
   "language": "python",
   "name": "python3"
  },
  "language_info": {
   "codemirror_mode": {
    "name": "ipython",
    "version": 3
   },
   "file_extension": ".py",
   "mimetype": "text/x-python",
   "name": "python",
   "nbconvert_exporter": "python",
   "pygments_lexer": "ipython3",
   "version": "3.12.10"
  }
 },
 "nbformat": 4,
 "nbformat_minor": 5
}
